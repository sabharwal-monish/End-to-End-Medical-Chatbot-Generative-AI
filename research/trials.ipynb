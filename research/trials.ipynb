{
 "cells": [
  {
   "cell_type": "code",
   "execution_count": 1,
   "id": "0593b2eb",
   "metadata": {},
   "outputs": [
    {
     "name": "stdout",
     "output_type": "stream",
     "text": [
      "Requirement already satisfied: transformers in c:\\code\\end-to-end-medical-chatbot-generative-ai\\venv\\lib\\site-packages (4.51.2)\n",
      "Requirement already satisfied: accelerate in c:\\code\\end-to-end-medical-chatbot-generative-ai\\venv\\lib\\site-packages (1.6.0)\n",
      "Requirement already satisfied: langchain in c:\\code\\end-to-end-medical-chatbot-generative-ai\\venv\\lib\\site-packages (0.3.23)\n",
      "Requirement already satisfied: filelock in c:\\code\\end-to-end-medical-chatbot-generative-ai\\venv\\lib\\site-packages (from transformers) (3.18.0)\n",
      "Requirement already satisfied: huggingface-hub<1.0,>=0.30.0 in c:\\code\\end-to-end-medical-chatbot-generative-ai\\venv\\lib\\site-packages (from transformers) (0.30.2)\n",
      "Requirement already satisfied: numpy>=1.17 in c:\\code\\end-to-end-medical-chatbot-generative-ai\\venv\\lib\\site-packages (from transformers) (2.2.4)\n",
      "Requirement already satisfied: packaging>=20.0 in c:\\code\\end-to-end-medical-chatbot-generative-ai\\venv\\lib\\site-packages (from transformers) (24.2)\n",
      "Requirement already satisfied: pyyaml>=5.1 in c:\\code\\end-to-end-medical-chatbot-generative-ai\\venv\\lib\\site-packages (from transformers) (6.0.2)\n",
      "Requirement already satisfied: regex!=2019.12.17 in c:\\code\\end-to-end-medical-chatbot-generative-ai\\venv\\lib\\site-packages (from transformers) (2024.11.6)\n",
      "Requirement already satisfied: requests in c:\\code\\end-to-end-medical-chatbot-generative-ai\\venv\\lib\\site-packages (from transformers) (2.32.3)\n",
      "Requirement already satisfied: tokenizers<0.22,>=0.21 in c:\\code\\end-to-end-medical-chatbot-generative-ai\\venv\\lib\\site-packages (from transformers) (0.21.1)\n",
      "Requirement already satisfied: safetensors>=0.4.3 in c:\\code\\end-to-end-medical-chatbot-generative-ai\\venv\\lib\\site-packages (from transformers) (0.5.3)\n",
      "Requirement already satisfied: tqdm>=4.27 in c:\\code\\end-to-end-medical-chatbot-generative-ai\\venv\\lib\\site-packages (from transformers) (4.67.1)\n",
      "Requirement already satisfied: psutil in c:\\code\\end-to-end-medical-chatbot-generative-ai\\venv\\lib\\site-packages (from accelerate) (7.0.0)\n",
      "Requirement already satisfied: torch>=2.0.0 in c:\\code\\end-to-end-medical-chatbot-generative-ai\\venv\\lib\\site-packages (from accelerate) (2.6.0)\n",
      "Requirement already satisfied: langchain-core<1.0.0,>=0.3.51 in c:\\code\\end-to-end-medical-chatbot-generative-ai\\venv\\lib\\site-packages (from langchain) (0.3.51)\n",
      "Requirement already satisfied: langchain-text-splitters<1.0.0,>=0.3.8 in c:\\code\\end-to-end-medical-chatbot-generative-ai\\venv\\lib\\site-packages (from langchain) (0.3.8)\n",
      "Requirement already satisfied: langsmith<0.4,>=0.1.17 in c:\\code\\end-to-end-medical-chatbot-generative-ai\\venv\\lib\\site-packages (from langchain) (0.3.28)\n",
      "Requirement already satisfied: pydantic<3.0.0,>=2.7.4 in c:\\code\\end-to-end-medical-chatbot-generative-ai\\venv\\lib\\site-packages (from langchain) (2.11.3)\n",
      "Requirement already satisfied: SQLAlchemy<3,>=1.4 in c:\\code\\end-to-end-medical-chatbot-generative-ai\\venv\\lib\\site-packages (from langchain) (2.0.40)\n",
      "Requirement already satisfied: fsspec>=2023.5.0 in c:\\code\\end-to-end-medical-chatbot-generative-ai\\venv\\lib\\site-packages (from huggingface-hub<1.0,>=0.30.0->transformers) (2025.3.2)\n",
      "Requirement already satisfied: typing-extensions>=3.7.4.3 in c:\\code\\end-to-end-medical-chatbot-generative-ai\\venv\\lib\\site-packages (from huggingface-hub<1.0,>=0.30.0->transformers) (4.13.1)\n",
      "Requirement already satisfied: tenacity!=8.4.0,<10.0.0,>=8.1.0 in c:\\code\\end-to-end-medical-chatbot-generative-ai\\venv\\lib\\site-packages (from langchain-core<1.0.0,>=0.3.51->langchain) (9.1.2)\n",
      "Requirement already satisfied: jsonpatch<2.0,>=1.33 in c:\\code\\end-to-end-medical-chatbot-generative-ai\\venv\\lib\\site-packages (from langchain-core<1.0.0,>=0.3.51->langchain) (1.33)\n",
      "Requirement already satisfied: httpx<1,>=0.23.0 in c:\\code\\end-to-end-medical-chatbot-generative-ai\\venv\\lib\\site-packages (from langsmith<0.4,>=0.1.17->langchain) (0.28.1)\n",
      "Requirement already satisfied: orjson<4.0.0,>=3.9.14 in c:\\code\\end-to-end-medical-chatbot-generative-ai\\venv\\lib\\site-packages (from langsmith<0.4,>=0.1.17->langchain) (3.10.16)\n",
      "Requirement already satisfied: requests-toolbelt<2.0.0,>=1.0.0 in c:\\code\\end-to-end-medical-chatbot-generative-ai\\venv\\lib\\site-packages (from langsmith<0.4,>=0.1.17->langchain) (1.0.0)\n",
      "Requirement already satisfied: zstandard<0.24.0,>=0.23.0 in c:\\code\\end-to-end-medical-chatbot-generative-ai\\venv\\lib\\site-packages (from langsmith<0.4,>=0.1.17->langchain) (0.23.0)\n",
      "Requirement already satisfied: annotated-types>=0.6.0 in c:\\code\\end-to-end-medical-chatbot-generative-ai\\venv\\lib\\site-packages (from pydantic<3.0.0,>=2.7.4->langchain) (0.7.0)\n",
      "Requirement already satisfied: pydantic-core==2.33.1 in c:\\code\\end-to-end-medical-chatbot-generative-ai\\venv\\lib\\site-packages (from pydantic<3.0.0,>=2.7.4->langchain) (2.33.1)\n",
      "Requirement already satisfied: typing-inspection>=0.4.0 in c:\\code\\end-to-end-medical-chatbot-generative-ai\\venv\\lib\\site-packages (from pydantic<3.0.0,>=2.7.4->langchain) (0.4.0)\n",
      "Requirement already satisfied: charset-normalizer<4,>=2 in c:\\code\\end-to-end-medical-chatbot-generative-ai\\venv\\lib\\site-packages (from requests->transformers) (3.4.1)\n",
      "Requirement already satisfied: idna<4,>=2.5 in c:\\code\\end-to-end-medical-chatbot-generative-ai\\venv\\lib\\site-packages (from requests->transformers) (3.10)\n",
      "Requirement already satisfied: urllib3<3,>=1.21.1 in c:\\code\\end-to-end-medical-chatbot-generative-ai\\venv\\lib\\site-packages (from requests->transformers) (2.3.0)\n",
      "Requirement already satisfied: certifi>=2017.4.17 in c:\\code\\end-to-end-medical-chatbot-generative-ai\\venv\\lib\\site-packages (from requests->transformers) (2025.1.31)\n",
      "Requirement already satisfied: greenlet>=1 in c:\\code\\end-to-end-medical-chatbot-generative-ai\\venv\\lib\\site-packages (from SQLAlchemy<3,>=1.4->langchain) (3.1.1)\n",
      "Requirement already satisfied: networkx in c:\\code\\end-to-end-medical-chatbot-generative-ai\\venv\\lib\\site-packages (from torch>=2.0.0->accelerate) (3.4.2)\n",
      "Requirement already satisfied: jinja2 in c:\\code\\end-to-end-medical-chatbot-generative-ai\\venv\\lib\\site-packages (from torch>=2.0.0->accelerate) (3.1.6)\n",
      "Requirement already satisfied: setuptools in c:\\code\\end-to-end-medical-chatbot-generative-ai\\venv\\lib\\site-packages (from torch>=2.0.0->accelerate) (78.1.0)\n",
      "Requirement already satisfied: sympy==1.13.1 in c:\\code\\end-to-end-medical-chatbot-generative-ai\\venv\\lib\\site-packages (from torch>=2.0.0->accelerate) (1.13.1)\n",
      "Requirement already satisfied: mpmath<1.4,>=1.1.0 in c:\\code\\end-to-end-medical-chatbot-generative-ai\\venv\\lib\\site-packages (from sympy==1.13.1->torch>=2.0.0->accelerate) (1.3.0)\n",
      "Requirement already satisfied: colorama in c:\\code\\end-to-end-medical-chatbot-generative-ai\\venv\\lib\\site-packages (from tqdm>=4.27->transformers) (0.4.6)\n",
      "Requirement already satisfied: anyio in c:\\code\\end-to-end-medical-chatbot-generative-ai\\venv\\lib\\site-packages (from httpx<1,>=0.23.0->langsmith<0.4,>=0.1.17->langchain) (4.9.0)\n",
      "Requirement already satisfied: httpcore==1.* in c:\\code\\end-to-end-medical-chatbot-generative-ai\\venv\\lib\\site-packages (from httpx<1,>=0.23.0->langsmith<0.4,>=0.1.17->langchain) (1.0.7)\n",
      "Requirement already satisfied: h11<0.15,>=0.13 in c:\\code\\end-to-end-medical-chatbot-generative-ai\\venv\\lib\\site-packages (from httpcore==1.*->httpx<1,>=0.23.0->langsmith<0.4,>=0.1.17->langchain) (0.14.0)\n",
      "Requirement already satisfied: jsonpointer>=1.9 in c:\\code\\end-to-end-medical-chatbot-generative-ai\\venv\\lib\\site-packages (from jsonpatch<2.0,>=1.33->langchain-core<1.0.0,>=0.3.51->langchain) (3.0.0)\n",
      "Requirement already satisfied: MarkupSafe>=2.0 in c:\\code\\end-to-end-medical-chatbot-generative-ai\\venv\\lib\\site-packages (from jinja2->torch>=2.0.0->accelerate) (3.0.2)\n",
      "Requirement already satisfied: sniffio>=1.1 in c:\\code\\end-to-end-medical-chatbot-generative-ai\\venv\\lib\\site-packages (from anyio->httpx<1,>=0.23.0->langsmith<0.4,>=0.1.17->langchain) (1.3.1)\n"
     ]
    },
    {
     "name": "stderr",
     "output_type": "stream",
     "text": [
      "\n",
      "[notice] A new release of pip is available: 24.3.1 -> 25.0.1\n",
      "[notice] To update, run: python.exe -m pip install --upgrade pip\n"
     ]
    }
   ],
   "source": [
    "!pip install transformers accelerate langchain\n"
   ]
  },
  {
   "cell_type": "code",
   "execution_count": 1,
   "id": "5be655b3",
   "metadata": {},
   "outputs": [
    {
     "name": "stdout",
     "output_type": "stream",
     "text": [
      "Requirement already satisfied: transformers in c:\\code\\end-to-end-medical-chatbot-generative-ai\\venv\\lib\\site-packages (4.51.2)\n",
      "Requirement already satisfied: langchain in c:\\code\\end-to-end-medical-chatbot-generative-ai\\venv\\lib\\site-packages (0.3.23)\n",
      "Requirement already satisfied: langchain-community in c:\\code\\end-to-end-medical-chatbot-generative-ai\\venv\\lib\\site-packages (0.3.21)\n",
      "Requirement already satisfied: filelock in c:\\code\\end-to-end-medical-chatbot-generative-ai\\venv\\lib\\site-packages (from transformers) (3.18.0)\n",
      "Requirement already satisfied: huggingface-hub<1.0,>=0.30.0 in c:\\code\\end-to-end-medical-chatbot-generative-ai\\venv\\lib\\site-packages (from transformers) (0.30.2)\n",
      "Requirement already satisfied: numpy>=1.17 in c:\\code\\end-to-end-medical-chatbot-generative-ai\\venv\\lib\\site-packages (from transformers) (2.2.4)\n",
      "Requirement already satisfied: packaging>=20.0 in c:\\code\\end-to-end-medical-chatbot-generative-ai\\venv\\lib\\site-packages (from transformers) (24.2)\n",
      "Requirement already satisfied: pyyaml>=5.1 in c:\\code\\end-to-end-medical-chatbot-generative-ai\\venv\\lib\\site-packages (from transformers) (6.0.2)\n",
      "Requirement already satisfied: regex!=2019.12.17 in c:\\code\\end-to-end-medical-chatbot-generative-ai\\venv\\lib\\site-packages (from transformers) (2024.11.6)\n",
      "Requirement already satisfied: requests in c:\\code\\end-to-end-medical-chatbot-generative-ai\\venv\\lib\\site-packages (from transformers) (2.32.3)\n",
      "Requirement already satisfied: tokenizers<0.22,>=0.21 in c:\\code\\end-to-end-medical-chatbot-generative-ai\\venv\\lib\\site-packages (from transformers) (0.21.1)\n",
      "Requirement already satisfied: safetensors>=0.4.3 in c:\\code\\end-to-end-medical-chatbot-generative-ai\\venv\\lib\\site-packages (from transformers) (0.5.3)\n",
      "Requirement already satisfied: tqdm>=4.27 in c:\\code\\end-to-end-medical-chatbot-generative-ai\\venv\\lib\\site-packages (from transformers) (4.67.1)\n",
      "Requirement already satisfied: langchain-core<1.0.0,>=0.3.51 in c:\\code\\end-to-end-medical-chatbot-generative-ai\\venv\\lib\\site-packages (from langchain) (0.3.51)\n",
      "Requirement already satisfied: langchain-text-splitters<1.0.0,>=0.3.8 in c:\\code\\end-to-end-medical-chatbot-generative-ai\\venv\\lib\\site-packages (from langchain) (0.3.8)\n",
      "Requirement already satisfied: langsmith<0.4,>=0.1.17 in c:\\code\\end-to-end-medical-chatbot-generative-ai\\venv\\lib\\site-packages (from langchain) (0.3.28)\n",
      "Requirement already satisfied: pydantic<3.0.0,>=2.7.4 in c:\\code\\end-to-end-medical-chatbot-generative-ai\\venv\\lib\\site-packages (from langchain) (2.11.3)\n",
      "Requirement already satisfied: SQLAlchemy<3,>=1.4 in c:\\code\\end-to-end-medical-chatbot-generative-ai\\venv\\lib\\site-packages (from langchain) (2.0.40)\n",
      "Requirement already satisfied: aiohttp<4.0.0,>=3.8.3 in c:\\code\\end-to-end-medical-chatbot-generative-ai\\venv\\lib\\site-packages (from langchain-community) (3.10.11)\n",
      "Requirement already satisfied: tenacity!=8.4.0,<10,>=8.1.0 in c:\\code\\end-to-end-medical-chatbot-generative-ai\\venv\\lib\\site-packages (from langchain-community) (9.1.2)\n",
      "Requirement already satisfied: dataclasses-json<0.7,>=0.5.7 in c:\\code\\end-to-end-medical-chatbot-generative-ai\\venv\\lib\\site-packages (from langchain-community) (0.6.7)\n",
      "Requirement already satisfied: pydantic-settings<3.0.0,>=2.4.0 in c:\\code\\end-to-end-medical-chatbot-generative-ai\\venv\\lib\\site-packages (from langchain-community) (2.8.1)\n",
      "Requirement already satisfied: httpx-sse<1.0.0,>=0.4.0 in c:\\code\\end-to-end-medical-chatbot-generative-ai\\venv\\lib\\site-packages (from langchain-community) (0.4.0)\n",
      "Requirement already satisfied: aiohappyeyeballs>=2.3.0 in c:\\code\\end-to-end-medical-chatbot-generative-ai\\venv\\lib\\site-packages (from aiohttp<4.0.0,>=3.8.3->langchain-community) (2.6.1)\n",
      "Requirement already satisfied: aiosignal>=1.1.2 in c:\\code\\end-to-end-medical-chatbot-generative-ai\\venv\\lib\\site-packages (from aiohttp<4.0.0,>=3.8.3->langchain-community) (1.3.2)\n",
      "Requirement already satisfied: attrs>=17.3.0 in c:\\code\\end-to-end-medical-chatbot-generative-ai\\venv\\lib\\site-packages (from aiohttp<4.0.0,>=3.8.3->langchain-community) (25.3.0)\n",
      "Requirement already satisfied: frozenlist>=1.1.1 in c:\\code\\end-to-end-medical-chatbot-generative-ai\\venv\\lib\\site-packages (from aiohttp<4.0.0,>=3.8.3->langchain-community) (1.5.0)\n",
      "Requirement already satisfied: multidict<7.0,>=4.5 in c:\\code\\end-to-end-medical-chatbot-generative-ai\\venv\\lib\\site-packages (from aiohttp<4.0.0,>=3.8.3->langchain-community) (6.4.0)\n",
      "Requirement already satisfied: yarl<2.0,>=1.12.0 in c:\\code\\end-to-end-medical-chatbot-generative-ai\\venv\\lib\\site-packages (from aiohttp<4.0.0,>=3.8.3->langchain-community) (1.19.0)\n",
      "Requirement already satisfied: marshmallow<4.0.0,>=3.18.0 in c:\\code\\end-to-end-medical-chatbot-generative-ai\\venv\\lib\\site-packages (from dataclasses-json<0.7,>=0.5.7->langchain-community) (3.26.1)\n",
      "Requirement already satisfied: typing-inspect<1,>=0.4.0 in c:\\code\\end-to-end-medical-chatbot-generative-ai\\venv\\lib\\site-packages (from dataclasses-json<0.7,>=0.5.7->langchain-community) (0.9.0)\n",
      "Requirement already satisfied: fsspec>=2023.5.0 in c:\\code\\end-to-end-medical-chatbot-generative-ai\\venv\\lib\\site-packages (from huggingface-hub<1.0,>=0.30.0->transformers) (2025.3.2)\n",
      "Requirement already satisfied: typing-extensions>=3.7.4.3 in c:\\code\\end-to-end-medical-chatbot-generative-ai\\venv\\lib\\site-packages (from huggingface-hub<1.0,>=0.30.0->transformers) (4.13.1)\n",
      "Requirement already satisfied: jsonpatch<2.0,>=1.33 in c:\\code\\end-to-end-medical-chatbot-generative-ai\\venv\\lib\\site-packages (from langchain-core<1.0.0,>=0.3.51->langchain) (1.33)\n",
      "Requirement already satisfied: httpx<1,>=0.23.0 in c:\\code\\end-to-end-medical-chatbot-generative-ai\\venv\\lib\\site-packages (from langsmith<0.4,>=0.1.17->langchain) (0.28.1)\n",
      "Requirement already satisfied: orjson<4.0.0,>=3.9.14 in c:\\code\\end-to-end-medical-chatbot-generative-ai\\venv\\lib\\site-packages (from langsmith<0.4,>=0.1.17->langchain) (3.10.16)\n",
      "Requirement already satisfied: requests-toolbelt<2.0.0,>=1.0.0 in c:\\code\\end-to-end-medical-chatbot-generative-ai\\venv\\lib\\site-packages (from langsmith<0.4,>=0.1.17->langchain) (1.0.0)\n",
      "Requirement already satisfied: zstandard<0.24.0,>=0.23.0 in c:\\code\\end-to-end-medical-chatbot-generative-ai\\venv\\lib\\site-packages (from langsmith<0.4,>=0.1.17->langchain) (0.23.0)\n",
      "Requirement already satisfied: annotated-types>=0.6.0 in c:\\code\\end-to-end-medical-chatbot-generative-ai\\venv\\lib\\site-packages (from pydantic<3.0.0,>=2.7.4->langchain) (0.7.0)\n",
      "Requirement already satisfied: pydantic-core==2.33.1 in c:\\code\\end-to-end-medical-chatbot-generative-ai\\venv\\lib\\site-packages (from pydantic<3.0.0,>=2.7.4->langchain) (2.33.1)\n",
      "Requirement already satisfied: typing-inspection>=0.4.0 in c:\\code\\end-to-end-medical-chatbot-generative-ai\\venv\\lib\\site-packages (from pydantic<3.0.0,>=2.7.4->langchain) (0.4.0)\n",
      "Requirement already satisfied: python-dotenv>=0.21.0 in c:\\code\\end-to-end-medical-chatbot-generative-ai\\venv\\lib\\site-packages (from pydantic-settings<3.0.0,>=2.4.0->langchain-community) (1.1.0)\n",
      "Requirement already satisfied: charset-normalizer<4,>=2 in c:\\code\\end-to-end-medical-chatbot-generative-ai\\venv\\lib\\site-packages (from requests->transformers) (3.4.1)\n",
      "Requirement already satisfied: idna<4,>=2.5 in c:\\code\\end-to-end-medical-chatbot-generative-ai\\venv\\lib\\site-packages (from requests->transformers) (3.10)\n",
      "Requirement already satisfied: urllib3<3,>=1.21.1 in c:\\code\\end-to-end-medical-chatbot-generative-ai\\venv\\lib\\site-packages (from requests->transformers) (2.3.0)\n",
      "Requirement already satisfied: certifi>=2017.4.17 in c:\\code\\end-to-end-medical-chatbot-generative-ai\\venv\\lib\\site-packages (from requests->transformers) (2025.1.31)\n",
      "Requirement already satisfied: greenlet>=1 in c:\\code\\end-to-end-medical-chatbot-generative-ai\\venv\\lib\\site-packages (from SQLAlchemy<3,>=1.4->langchain) (3.1.1)\n",
      "Requirement already satisfied: colorama in c:\\code\\end-to-end-medical-chatbot-generative-ai\\venv\\lib\\site-packages (from tqdm>=4.27->transformers) (0.4.6)\n",
      "Requirement already satisfied: anyio in c:\\code\\end-to-end-medical-chatbot-generative-ai\\venv\\lib\\site-packages (from httpx<1,>=0.23.0->langsmith<0.4,>=0.1.17->langchain) (4.9.0)\n",
      "Requirement already satisfied: httpcore==1.* in c:\\code\\end-to-end-medical-chatbot-generative-ai\\venv\\lib\\site-packages (from httpx<1,>=0.23.0->langsmith<0.4,>=0.1.17->langchain) (1.0.7)\n",
      "Requirement already satisfied: h11<0.15,>=0.13 in c:\\code\\end-to-end-medical-chatbot-generative-ai\\venv\\lib\\site-packages (from httpcore==1.*->httpx<1,>=0.23.0->langsmith<0.4,>=0.1.17->langchain) (0.14.0)\n",
      "Requirement already satisfied: jsonpointer>=1.9 in c:\\code\\end-to-end-medical-chatbot-generative-ai\\venv\\lib\\site-packages (from jsonpatch<2.0,>=1.33->langchain-core<1.0.0,>=0.3.51->langchain) (3.0.0)\n",
      "Requirement already satisfied: mypy-extensions>=0.3.0 in c:\\code\\end-to-end-medical-chatbot-generative-ai\\venv\\lib\\site-packages (from typing-inspect<1,>=0.4.0->dataclasses-json<0.7,>=0.5.7->langchain-community) (1.0.0)\n",
      "Requirement already satisfied: propcache>=0.2.1 in c:\\code\\end-to-end-medical-chatbot-generative-ai\\venv\\lib\\site-packages (from yarl<2.0,>=1.12.0->aiohttp<4.0.0,>=3.8.3->langchain-community) (0.3.1)\n",
      "Requirement already satisfied: sniffio>=1.1 in c:\\code\\end-to-end-medical-chatbot-generative-ai\\venv\\lib\\site-packages (from anyio->httpx<1,>=0.23.0->langsmith<0.4,>=0.1.17->langchain) (1.3.1)\n",
      "Note: you may need to restart the kernel to use updated packages.\n"
     ]
    },
    {
     "name": "stderr",
     "output_type": "stream",
     "text": [
      "\n",
      "[notice] A new release of pip is available: 24.3.1 -> 25.0.1\n",
      "[notice] To update, run: python.exe -m pip install --upgrade pip\n"
     ]
    }
   ],
   "source": [
    "pip install transformers langchain langchain-community\n"
   ]
  },
  {
   "cell_type": "code",
   "execution_count": 2,
   "id": "45538355",
   "metadata": {},
   "outputs": [
    {
     "data": {
      "text/plain": [
       "'c:\\\\Code\\\\End-to-End-Medical-Chatbot-Generative-AI\\\\research'"
      ]
     },
     "execution_count": 2,
     "metadata": {},
     "output_type": "execute_result"
    }
   ],
   "source": [
    "%pwd"
   ]
  },
  {
   "cell_type": "code",
   "execution_count": 5,
   "id": "08084718",
   "metadata": {},
   "outputs": [],
   "source": [
    "from langchain.document_loaders import PyPDFLoader, DirectoryLoader\n",
    "from langchain.text_splitter import RecursiveCharacterTextSplitter"
   ]
  },
  {
   "cell_type": "code",
   "execution_count": 6,
   "id": "499f7a64",
   "metadata": {},
   "outputs": [],
   "source": [
    "def load_pdf_file(data):\n",
    "    loader = DirectoryLoader(data, glob=\"*.pdf\", loader_cls=PyPDFLoader)\n",
    "    documents = loader.load()\n",
    "    return documents"
   ]
  },
  {
   "cell_type": "code",
   "execution_count": 7,
   "id": "c68cfdb0",
   "metadata": {},
   "outputs": [
    {
     "name": "stdout",
     "output_type": "stream",
     "text": [
      "c:\\Code\\End-to-End-Medical-Chatbot-Generative-AI\\research\n"
     ]
    }
   ],
   "source": [
    "import os\n",
    "print(os.getcwd())\n"
   ]
  },
  {
   "cell_type": "code",
   "execution_count": 8,
   "id": "c0ceca19",
   "metadata": {},
   "outputs": [],
   "source": [
    "extracted_data = load_pdf_file(data='../Data/')\n",
    "\n",
    "\n"
   ]
  },
  {
   "cell_type": "code",
   "execution_count": 9,
   "id": "57609ad9",
   "metadata": {},
   "outputs": [],
   "source": [
    "def text_split(extracted_data):\n",
    "    text_splitter = RecursiveCharacterTextSplitter(chunk_size=500, chunk_overlap=50)\n",
    "    text_chunks = text_splitter.split_documents(extracted_data)\n",
    "    return text_chunks"
   ]
  },
  {
   "cell_type": "code",
   "execution_count": 10,
   "id": "0eaf76a2",
   "metadata": {},
   "outputs": [
    {
     "name": "stdout",
     "output_type": "stream",
     "text": [
      "Length of text chunks: 5961\n"
     ]
    }
   ],
   "source": [
    "text_chunks = text_split(extracted_data)\n",
    "print('Length of text chunks:', len(text_chunks))"
   ]
  },
  {
   "cell_type": "code",
   "execution_count": 9,
   "id": "b7dba00b",
   "metadata": {},
   "outputs": [
    {
     "name": "stdout",
     "output_type": "stream",
     "text": [
      "Requirement already satisfied: langchain-huggingface in c:\\code\\end-to-end-medical-chatbot-generative-ai\\venv\\lib\\site-packages (0.1.2)\n",
      "Requirement already satisfied: huggingface-hub>=0.23.0 in c:\\code\\end-to-end-medical-chatbot-generative-ai\\venv\\lib\\site-packages (from langchain-huggingface) (0.30.2)\n",
      "Requirement already satisfied: langchain-core<0.4.0,>=0.3.15 in c:\\code\\end-to-end-medical-chatbot-generative-ai\\venv\\lib\\site-packages (from langchain-huggingface) (0.3.51)\n",
      "Requirement already satisfied: sentence-transformers>=2.6.0 in c:\\code\\end-to-end-medical-chatbot-generative-ai\\venv\\lib\\site-packages (from langchain-huggingface) (4.0.2)\n",
      "Requirement already satisfied: tokenizers>=0.19.1 in c:\\code\\end-to-end-medical-chatbot-generative-ai\\venv\\lib\\site-packages (from langchain-huggingface) (0.21.1)\n",
      "Requirement already satisfied: transformers>=4.39.0 in c:\\code\\end-to-end-medical-chatbot-generative-ai\\venv\\lib\\site-packages (from langchain-huggingface) (4.51.2)\n",
      "Requirement already satisfied: filelock in c:\\code\\end-to-end-medical-chatbot-generative-ai\\venv\\lib\\site-packages (from huggingface-hub>=0.23.0->langchain-huggingface) (3.18.0)\n",
      "Requirement already satisfied: fsspec>=2023.5.0 in c:\\code\\end-to-end-medical-chatbot-generative-ai\\venv\\lib\\site-packages (from huggingface-hub>=0.23.0->langchain-huggingface) (2025.3.2)\n",
      "Requirement already satisfied: packaging>=20.9 in c:\\code\\end-to-end-medical-chatbot-generative-ai\\venv\\lib\\site-packages (from huggingface-hub>=0.23.0->langchain-huggingface) (24.2)\n",
      "Requirement already satisfied: pyyaml>=5.1 in c:\\code\\end-to-end-medical-chatbot-generative-ai\\venv\\lib\\site-packages (from huggingface-hub>=0.23.0->langchain-huggingface) (6.0.2)\n",
      "Requirement already satisfied: requests in c:\\code\\end-to-end-medical-chatbot-generative-ai\\venv\\lib\\site-packages (from huggingface-hub>=0.23.0->langchain-huggingface) (2.32.3)\n",
      "Requirement already satisfied: tqdm>=4.42.1 in c:\\code\\end-to-end-medical-chatbot-generative-ai\\venv\\lib\\site-packages (from huggingface-hub>=0.23.0->langchain-huggingface) (4.67.1)\n",
      "Requirement already satisfied: typing-extensions>=3.7.4.3 in c:\\code\\end-to-end-medical-chatbot-generative-ai\\venv\\lib\\site-packages (from huggingface-hub>=0.23.0->langchain-huggingface) (4.13.1)\n",
      "Requirement already satisfied: langsmith<0.4,>=0.1.125 in c:\\code\\end-to-end-medical-chatbot-generative-ai\\venv\\lib\\site-packages (from langchain-core<0.4.0,>=0.3.15->langchain-huggingface) (0.3.28)\n",
      "Requirement already satisfied: tenacity!=8.4.0,<10.0.0,>=8.1.0 in c:\\code\\end-to-end-medical-chatbot-generative-ai\\venv\\lib\\site-packages (from langchain-core<0.4.0,>=0.3.15->langchain-huggingface) (9.1.2)\n",
      "Requirement already satisfied: jsonpatch<2.0,>=1.33 in c:\\code\\end-to-end-medical-chatbot-generative-ai\\venv\\lib\\site-packages (from langchain-core<0.4.0,>=0.3.15->langchain-huggingface) (1.33)\n",
      "Requirement already satisfied: pydantic<3.0.0,>=2.7.4 in c:\\code\\end-to-end-medical-chatbot-generative-ai\\venv\\lib\\site-packages (from langchain-core<0.4.0,>=0.3.15->langchain-huggingface) (2.11.3)\n",
      "Requirement already satisfied: torch>=1.11.0 in c:\\code\\end-to-end-medical-chatbot-generative-ai\\venv\\lib\\site-packages (from sentence-transformers>=2.6.0->langchain-huggingface) (2.6.0)\n",
      "Requirement already satisfied: scikit-learn in c:\\code\\end-to-end-medical-chatbot-generative-ai\\venv\\lib\\site-packages (from sentence-transformers>=2.6.0->langchain-huggingface) (1.6.1)\n",
      "Requirement already satisfied: scipy in c:\\code\\end-to-end-medical-chatbot-generative-ai\\venv\\lib\\site-packages (from sentence-transformers>=2.6.0->langchain-huggingface) (1.15.2)\n",
      "Requirement already satisfied: Pillow in c:\\code\\end-to-end-medical-chatbot-generative-ai\\venv\\lib\\site-packages (from sentence-transformers>=2.6.0->langchain-huggingface) (11.1.0)\n",
      "Requirement already satisfied: numpy>=1.17 in c:\\code\\end-to-end-medical-chatbot-generative-ai\\venv\\lib\\site-packages (from transformers>=4.39.0->langchain-huggingface) (2.2.4)\n",
      "Requirement already satisfied: regex!=2019.12.17 in c:\\code\\end-to-end-medical-chatbot-generative-ai\\venv\\lib\\site-packages (from transformers>=4.39.0->langchain-huggingface) (2024.11.6)\n",
      "Requirement already satisfied: safetensors>=0.4.3 in c:\\code\\end-to-end-medical-chatbot-generative-ai\\venv\\lib\\site-packages (from transformers>=4.39.0->langchain-huggingface) (0.5.3)\n",
      "Requirement already satisfied: jsonpointer>=1.9 in c:\\code\\end-to-end-medical-chatbot-generative-ai\\venv\\lib\\site-packages (from jsonpatch<2.0,>=1.33->langchain-core<0.4.0,>=0.3.15->langchain-huggingface) (3.0.0)\n",
      "Requirement already satisfied: httpx<1,>=0.23.0 in c:\\code\\end-to-end-medical-chatbot-generative-ai\\venv\\lib\\site-packages (from langsmith<0.4,>=0.1.125->langchain-core<0.4.0,>=0.3.15->langchain-huggingface) (0.28.1)\n",
      "Requirement already satisfied: orjson<4.0.0,>=3.9.14 in c:\\code\\end-to-end-medical-chatbot-generative-ai\\venv\\lib\\site-packages (from langsmith<0.4,>=0.1.125->langchain-core<0.4.0,>=0.3.15->langchain-huggingface) (3.10.16)\n",
      "Requirement already satisfied: requests-toolbelt<2.0.0,>=1.0.0 in c:\\code\\end-to-end-medical-chatbot-generative-ai\\venv\\lib\\site-packages (from langsmith<0.4,>=0.1.125->langchain-core<0.4.0,>=0.3.15->langchain-huggingface) (1.0.0)\n",
      "Requirement already satisfied: zstandard<0.24.0,>=0.23.0 in c:\\code\\end-to-end-medical-chatbot-generative-ai\\venv\\lib\\site-packages (from langsmith<0.4,>=0.1.125->langchain-core<0.4.0,>=0.3.15->langchain-huggingface) (0.23.0)\n",
      "Requirement already satisfied: annotated-types>=0.6.0 in c:\\code\\end-to-end-medical-chatbot-generative-ai\\venv\\lib\\site-packages (from pydantic<3.0.0,>=2.7.4->langchain-core<0.4.0,>=0.3.15->langchain-huggingface) (0.7.0)\n",
      "Requirement already satisfied: pydantic-core==2.33.1 in c:\\code\\end-to-end-medical-chatbot-generative-ai\\venv\\lib\\site-packages (from pydantic<3.0.0,>=2.7.4->langchain-core<0.4.0,>=0.3.15->langchain-huggingface) (2.33.1)\n",
      "Requirement already satisfied: typing-inspection>=0.4.0 in c:\\code\\end-to-end-medical-chatbot-generative-ai\\venv\\lib\\site-packages (from pydantic<3.0.0,>=2.7.4->langchain-core<0.4.0,>=0.3.15->langchain-huggingface) (0.4.0)\n",
      "Requirement already satisfied: charset-normalizer<4,>=2 in c:\\code\\end-to-end-medical-chatbot-generative-ai\\venv\\lib\\site-packages (from requests->huggingface-hub>=0.23.0->langchain-huggingface) (3.4.1)\n",
      "Requirement already satisfied: idna<4,>=2.5 in c:\\code\\end-to-end-medical-chatbot-generative-ai\\venv\\lib\\site-packages (from requests->huggingface-hub>=0.23.0->langchain-huggingface) (3.10)\n",
      "Requirement already satisfied: urllib3<3,>=1.21.1 in c:\\code\\end-to-end-medical-chatbot-generative-ai\\venv\\lib\\site-packages (from requests->huggingface-hub>=0.23.0->langchain-huggingface) (2.3.0)\n",
      "Requirement already satisfied: certifi>=2017.4.17 in c:\\code\\end-to-end-medical-chatbot-generative-ai\\venv\\lib\\site-packages (from requests->huggingface-hub>=0.23.0->langchain-huggingface) (2025.1.31)\n",
      "Requirement already satisfied: networkx in c:\\code\\end-to-end-medical-chatbot-generative-ai\\venv\\lib\\site-packages (from torch>=1.11.0->sentence-transformers>=2.6.0->langchain-huggingface) (3.4.2)\n",
      "Requirement already satisfied: jinja2 in c:\\code\\end-to-end-medical-chatbot-generative-ai\\venv\\lib\\site-packages (from torch>=1.11.0->sentence-transformers>=2.6.0->langchain-huggingface) (3.1.6)\n",
      "Requirement already satisfied: setuptools in c:\\code\\end-to-end-medical-chatbot-generative-ai\\venv\\lib\\site-packages (from torch>=1.11.0->sentence-transformers>=2.6.0->langchain-huggingface) (78.1.0)\n",
      "Requirement already satisfied: sympy==1.13.1 in c:\\code\\end-to-end-medical-chatbot-generative-ai\\venv\\lib\\site-packages (from torch>=1.11.0->sentence-transformers>=2.6.0->langchain-huggingface) (1.13.1)\n",
      "Requirement already satisfied: mpmath<1.4,>=1.1.0 in c:\\code\\end-to-end-medical-chatbot-generative-ai\\venv\\lib\\site-packages (from sympy==1.13.1->torch>=1.11.0->sentence-transformers>=2.6.0->langchain-huggingface) (1.3.0)\n",
      "Requirement already satisfied: colorama in c:\\code\\end-to-end-medical-chatbot-generative-ai\\venv\\lib\\site-packages (from tqdm>=4.42.1->huggingface-hub>=0.23.0->langchain-huggingface) (0.4.6)\n",
      "Requirement already satisfied: joblib>=1.2.0 in c:\\code\\end-to-end-medical-chatbot-generative-ai\\venv\\lib\\site-packages (from scikit-learn->sentence-transformers>=2.6.0->langchain-huggingface) (1.4.2)\n",
      "Requirement already satisfied: threadpoolctl>=3.1.0 in c:\\code\\end-to-end-medical-chatbot-generative-ai\\venv\\lib\\site-packages (from scikit-learn->sentence-transformers>=2.6.0->langchain-huggingface) (3.6.0)\n",
      "Requirement already satisfied: anyio in c:\\code\\end-to-end-medical-chatbot-generative-ai\\venv\\lib\\site-packages (from httpx<1,>=0.23.0->langsmith<0.4,>=0.1.125->langchain-core<0.4.0,>=0.3.15->langchain-huggingface) (4.9.0)\n",
      "Requirement already satisfied: httpcore==1.* in c:\\code\\end-to-end-medical-chatbot-generative-ai\\venv\\lib\\site-packages (from httpx<1,>=0.23.0->langsmith<0.4,>=0.1.125->langchain-core<0.4.0,>=0.3.15->langchain-huggingface) (1.0.7)\n",
      "Requirement already satisfied: h11<0.15,>=0.13 in c:\\code\\end-to-end-medical-chatbot-generative-ai\\venv\\lib\\site-packages (from httpcore==1.*->httpx<1,>=0.23.0->langsmith<0.4,>=0.1.125->langchain-core<0.4.0,>=0.3.15->langchain-huggingface) (0.14.0)\n",
      "Requirement already satisfied: MarkupSafe>=2.0 in c:\\code\\end-to-end-medical-chatbot-generative-ai\\venv\\lib\\site-packages (from jinja2->torch>=1.11.0->sentence-transformers>=2.6.0->langchain-huggingface) (3.0.2)\n",
      "Requirement already satisfied: sniffio>=1.1 in c:\\code\\end-to-end-medical-chatbot-generative-ai\\venv\\lib\\site-packages (from anyio->httpx<1,>=0.23.0->langsmith<0.4,>=0.1.125->langchain-core<0.4.0,>=0.3.15->langchain-huggingface) (1.3.1)\n",
      "Note: you may need to restart the kernel to use updated packages.\n"
     ]
    },
    {
     "name": "stderr",
     "output_type": "stream",
     "text": [
      "\n",
      "[notice] A new release of pip is available: 24.3.1 -> 25.0.1\n",
      "[notice] To update, run: python.exe -m pip install --upgrade pip\n"
     ]
    }
   ],
   "source": [
    "pip install -U langchain-huggingface\n"
   ]
  },
  {
   "cell_type": "code",
   "execution_count": 11,
   "id": "e13ea765",
   "metadata": {},
   "outputs": [],
   "source": [
    "from langchain_huggingface import HuggingFaceEmbeddings \n",
    "\n",
    "def download_hugging_face_embeddings():\n",
    "    embeddings = HuggingFaceEmbeddings(model_name=\"sentence-transformers/all-MiniLM-L6-v2\")\n",
    "    return embeddings\n"
   ]
  },
  {
   "cell_type": "code",
   "execution_count": 11,
   "id": "b57e8786",
   "metadata": {},
   "outputs": [
    {
     "name": "stdout",
     "output_type": "stream",
     "text": [
      "Requirement already satisfied: sentence-transformers in c:\\code\\end-to-end-medical-chatbot-generative-ai\\venv\\lib\\site-packages (4.0.2)\n",
      "Requirement already satisfied: transformers<5.0.0,>=4.41.0 in c:\\code\\end-to-end-medical-chatbot-generative-ai\\venv\\lib\\site-packages (from sentence-transformers) (4.51.2)\n",
      "Requirement already satisfied: tqdm in c:\\code\\end-to-end-medical-chatbot-generative-ai\\venv\\lib\\site-packages (from sentence-transformers) (4.67.1)\n",
      "Requirement already satisfied: torch>=1.11.0 in c:\\code\\end-to-end-medical-chatbot-generative-ai\\venv\\lib\\site-packages (from sentence-transformers) (2.6.0)\n",
      "Requirement already satisfied: scikit-learn in c:\\code\\end-to-end-medical-chatbot-generative-ai\\venv\\lib\\site-packages (from sentence-transformers) (1.6.1)\n",
      "Requirement already satisfied: scipy in c:\\code\\end-to-end-medical-chatbot-generative-ai\\venv\\lib\\site-packages (from sentence-transformers) (1.15.2)\n",
      "Requirement already satisfied: huggingface-hub>=0.20.0 in c:\\code\\end-to-end-medical-chatbot-generative-ai\\venv\\lib\\site-packages (from sentence-transformers) (0.30.2)\n",
      "Requirement already satisfied: Pillow in c:\\code\\end-to-end-medical-chatbot-generative-ai\\venv\\lib\\site-packages (from sentence-transformers) (11.1.0)\n",
      "Requirement already satisfied: typing_extensions>=4.5.0 in c:\\code\\end-to-end-medical-chatbot-generative-ai\\venv\\lib\\site-packages (from sentence-transformers) (4.13.1)\n",
      "Requirement already satisfied: filelock in c:\\code\\end-to-end-medical-chatbot-generative-ai\\venv\\lib\\site-packages (from huggingface-hub>=0.20.0->sentence-transformers) (3.18.0)\n",
      "Requirement already satisfied: fsspec>=2023.5.0 in c:\\code\\end-to-end-medical-chatbot-generative-ai\\venv\\lib\\site-packages (from huggingface-hub>=0.20.0->sentence-transformers) (2025.3.2)\n",
      "Requirement already satisfied: packaging>=20.9 in c:\\code\\end-to-end-medical-chatbot-generative-ai\\venv\\lib\\site-packages (from huggingface-hub>=0.20.0->sentence-transformers) (24.2)\n",
      "Requirement already satisfied: pyyaml>=5.1 in c:\\code\\end-to-end-medical-chatbot-generative-ai\\venv\\lib\\site-packages (from huggingface-hub>=0.20.0->sentence-transformers) (6.0.2)\n",
      "Requirement already satisfied: requests in c:\\code\\end-to-end-medical-chatbot-generative-ai\\venv\\lib\\site-packages (from huggingface-hub>=0.20.0->sentence-transformers) (2.32.3)\n",
      "Requirement already satisfied: networkx in c:\\code\\end-to-end-medical-chatbot-generative-ai\\venv\\lib\\site-packages (from torch>=1.11.0->sentence-transformers) (3.4.2)\n",
      "Requirement already satisfied: jinja2 in c:\\code\\end-to-end-medical-chatbot-generative-ai\\venv\\lib\\site-packages (from torch>=1.11.0->sentence-transformers) (3.1.6)\n",
      "Requirement already satisfied: setuptools in c:\\code\\end-to-end-medical-chatbot-generative-ai\\venv\\lib\\site-packages (from torch>=1.11.0->sentence-transformers) (78.1.0)\n",
      "Requirement already satisfied: sympy==1.13.1 in c:\\code\\end-to-end-medical-chatbot-generative-ai\\venv\\lib\\site-packages (from torch>=1.11.0->sentence-transformers) (1.13.1)\n",
      "Requirement already satisfied: mpmath<1.4,>=1.1.0 in c:\\code\\end-to-end-medical-chatbot-generative-ai\\venv\\lib\\site-packages (from sympy==1.13.1->torch>=1.11.0->sentence-transformers) (1.3.0)\n",
      "Requirement already satisfied: colorama in c:\\code\\end-to-end-medical-chatbot-generative-ai\\venv\\lib\\site-packages (from tqdm->sentence-transformers) (0.4.6)\n",
      "Requirement already satisfied: numpy>=1.17 in c:\\code\\end-to-end-medical-chatbot-generative-ai\\venv\\lib\\site-packages (from transformers<5.0.0,>=4.41.0->sentence-transformers) (2.2.4)\n",
      "Requirement already satisfied: regex!=2019.12.17 in c:\\code\\end-to-end-medical-chatbot-generative-ai\\venv\\lib\\site-packages (from transformers<5.0.0,>=4.41.0->sentence-transformers) (2024.11.6)\n",
      "Requirement already satisfied: tokenizers<0.22,>=0.21 in c:\\code\\end-to-end-medical-chatbot-generative-ai\\venv\\lib\\site-packages (from transformers<5.0.0,>=4.41.0->sentence-transformers) (0.21.1)\n",
      "Requirement already satisfied: safetensors>=0.4.3 in c:\\code\\end-to-end-medical-chatbot-generative-ai\\venv\\lib\\site-packages (from transformers<5.0.0,>=4.41.0->sentence-transformers) (0.5.3)\n",
      "Requirement already satisfied: joblib>=1.2.0 in c:\\code\\end-to-end-medical-chatbot-generative-ai\\venv\\lib\\site-packages (from scikit-learn->sentence-transformers) (1.4.2)\n",
      "Requirement already satisfied: threadpoolctl>=3.1.0 in c:\\code\\end-to-end-medical-chatbot-generative-ai\\venv\\lib\\site-packages (from scikit-learn->sentence-transformers) (3.6.0)\n",
      "Requirement already satisfied: MarkupSafe>=2.0 in c:\\code\\end-to-end-medical-chatbot-generative-ai\\venv\\lib\\site-packages (from jinja2->torch>=1.11.0->sentence-transformers) (3.0.2)\n",
      "Requirement already satisfied: charset-normalizer<4,>=2 in c:\\code\\end-to-end-medical-chatbot-generative-ai\\venv\\lib\\site-packages (from requests->huggingface-hub>=0.20.0->sentence-transformers) (3.4.1)\n",
      "Requirement already satisfied: idna<4,>=2.5 in c:\\code\\end-to-end-medical-chatbot-generative-ai\\venv\\lib\\site-packages (from requests->huggingface-hub>=0.20.0->sentence-transformers) (3.10)\n",
      "Requirement already satisfied: urllib3<3,>=1.21.1 in c:\\code\\end-to-end-medical-chatbot-generative-ai\\venv\\lib\\site-packages (from requests->huggingface-hub>=0.20.0->sentence-transformers) (2.3.0)\n",
      "Requirement already satisfied: certifi>=2017.4.17 in c:\\code\\end-to-end-medical-chatbot-generative-ai\\venv\\lib\\site-packages (from requests->huggingface-hub>=0.20.0->sentence-transformers) (2025.1.31)\n",
      "Note: you may need to restart the kernel to use updated packages.\n"
     ]
    },
    {
     "name": "stderr",
     "output_type": "stream",
     "text": [
      "\n",
      "[notice] A new release of pip is available: 24.3.1 -> 25.0.1\n",
      "[notice] To update, run: python.exe -m pip install --upgrade pip\n"
     ]
    }
   ],
   "source": [
    "pip install sentence-transformers\n"
   ]
  },
  {
   "cell_type": "code",
   "execution_count": 12,
   "id": "68d553d6",
   "metadata": {},
   "outputs": [
    {
     "name": "stderr",
     "output_type": "stream",
     "text": [
      "c:\\Code\\End-to-End-Medical-Chatbot-Generative-AI\\venv\\Lib\\site-packages\\tqdm\\auto.py:21: TqdmWarning: IProgress not found. Please update jupyter and ipywidgets. See https://ipywidgets.readthedocs.io/en/stable/user_install.html\n",
      "  from .autonotebook import tqdm as notebook_tqdm\n"
     ]
    }
   ],
   "source": [
    "embeddings = download_hugging_face_embeddings()\n"
   ]
  },
  {
   "cell_type": "code",
   "execution_count": 1,
   "id": "f2c6467a",
   "metadata": {},
   "outputs": [
    {
     "name": "stdout",
     "output_type": "stream",
     "text": [
      "PINECONE_API_KEY: pcsk_26nrdP_QV56uem8Nzz7KisdZPp3Xhi3REBBatL3AyGTxBwGP64XSpLXoFxy6mbLmzd4kMq\n",
      "GROQ_API_KEY: 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\n"
     ]
    }
   ],
   "source": [
    "from dotenv import load_dotenv\n",
    "import os\n",
    "\n",
    "load_dotenv() \n",
    "\n",
    "PINECONE_API_KEY = os.getenv(\"PINECONE_API_KEY\")\n",
    "print(\"PINECONE_API_KEY:\", PINECONE_API_KEY)\n",
    "GROQ_API_KEY = os.getenv(\"GROQ_API_KEY\")\n",
    "print(\"GROQ_API_KEY:\", GROQ_API_KEY)"
   ]
  },
  {
   "cell_type": "code",
   "execution_count": 13,
   "id": "9736376d",
   "metadata": {},
   "outputs": [],
   "source": [
    "index_name = \"medicalbot\"  # or whatever name you want\n",
    "\n",
    "from pinecone import Pinecone, ServerlessSpec\n",
    "\n",
    "pc = Pinecone(api_key=PINECONE_API_KEY)\n",
    "\n",
    "# Delete index if it exists\n",
    "if index_name in [index_info[\"name\"] for index_info in pc.list_indexes()]:\n",
    "    pc.delete_index(index_name)\n",
    "\n",
    "# Create a new index\n",
    "pc.create_index(\n",
    "    name=index_name,\n",
    "    dimension=384,\n",
    "    metric=\"cosine\",\n",
    "    spec=ServerlessSpec(\n",
    "        cloud=\"aws\",\n",
    "        region=\"us-east-1\"\n",
    "    )\n",
    ")\n",
    "\n",
    "# Connect to index\n",
    "index = pc.Index(index_name)\n"
   ]
  },
  {
   "cell_type": "code",
   "execution_count": 2,
   "id": "77bf365e",
   "metadata": {},
   "outputs": [],
   "source": [
    "import os\n",
    "os.environ[\"PINECONE_API_KEY\"] = PINECONE_API_KEY\n",
    "os.environ[\"GROQ_API_KEY\"] = GROQ_API_KEY"
   ]
  },
  {
   "cell_type": "code",
   "execution_count": 14,
   "id": "d27eff41",
   "metadata": {},
   "outputs": [],
   "source": [
    "from langchain_pinecone import PineconeVectorStore\n",
    "\n",
    "docsearch = PineconeVectorStore.from_documents(\n",
    "    documents=text_chunks,\n",
    "    index_name=index_name,\n",
    "    embedding=embeddings, \n",
    ")\n",
    "\n",
    "retriever = docsearch.as_retriever()\n"
   ]
  },
  {
   "cell_type": "code",
   "execution_count": 15,
   "id": "87b22d38",
   "metadata": {},
   "outputs": [
    {
     "name": "stdout",
     "output_type": "stream",
     "text": [
      "Result 1:\n",
      "affected and can range greatly.\n",
      "• Type I diabetes mellitus. Characterized by fatigue and\n",
      "an abnormally high level of glucose in the blood\n",
      "(hyperglycemia).\n",
      "• Amyotrophic lateral schlerosis. First signs are stum-\n",
      "bling and difficulty climbing stairs. Later, muscle\n",
      "cramps and twitching may be observed as well as\n",
      "weakness in the hands making fastening buttons or\n",
      "turning a key difficult. Speech may become slowed or\n",
      "slurred. There may also be difficluty swallowing. As\n",
      "\n",
      "Result 2:\n",
      "begin to fall. A person with diabetes mellitus either does\n",
      "not make enough insulin, or makes insulin that does not\n",
      "work properly. The result is blood sugar that remains\n",
      "high, a condition called hyperglycemia.\n",
      "Diabetes must be diagnosed as early as possible. If\n",
      "left untreated, it can damage or cause failure of the eyes,\n",
      "kidneys, nerves, heart, blood vessels, and other body\n",
      "organs. Hypoglycemia, or low blood sugar, may also be\n",
      "discovered through blood sugar testing. Hypoglycemia is\n",
      "\n",
      "Result 3:\n",
      "Resources\n",
      "BOOKS\n",
      "A Manual of Laboratory and Diagnostic Tests.5th ed. Ed.\n",
      "Francis Fishback. Philadelphia: Lippincott, 1996.\n",
      "Henry, John B., ed. Clinical Diagnosis and Management by\n",
      "Laboratory Methods. 19th ed. Philadelphia: W. B. Saun-\n",
      "ders Co., 1996.\n",
      "PERIODICALS\n",
      "American Diabetes Association. “Report of the Expert Com-\n",
      "mittee on the Diagnosis and Classification of Diabetes\n",
      "Mellitus.”Diabetes Care 20, no, 7(July 997): 1183-1197.\n",
      "ORGANIZATIONS\n",
      "\n"
     ]
    }
   ],
   "source": [
    "query = \"What are the symptoms of diabetes?\"\n",
    "results = docsearch.similarity_search(query, k=3)  # top 3 relevant chunks\n",
    "\n",
    "for i, res in enumerate(results):\n",
    "    print(f\"Result {i+1}:\\n{res.page_content}\\n\")\n"
   ]
  },
  {
   "cell_type": "code",
   "execution_count": 16,
   "id": "3c8c544c",
   "metadata": {},
   "outputs": [],
   "source": [
    "from langchain_pinecone import PineconeVectorStore\n",
    "\n",
    "docsearch = PineconeVectorStore.from_existing_index(\n",
    "    index_name = index_name,\n",
    "    embedding = embeddings,\n",
    ")\n",
    "\n"
   ]
  },
  {
   "cell_type": "code",
   "execution_count": 17,
   "id": "66122bfc",
   "metadata": {},
   "outputs": [
    {
     "data": {
      "text/plain": [
       "<langchain_pinecone.vectorstores.PineconeVectorStore at 0x23ca9237b10>"
      ]
     },
     "execution_count": 17,
     "metadata": {},
     "output_type": "execute_result"
    }
   ],
   "source": [
    "docsearch"
   ]
  },
  {
   "cell_type": "code",
   "execution_count": 17,
   "id": "7feb80cb",
   "metadata": {},
   "outputs": [
    {
     "name": "stdout",
     "output_type": "stream",
     "text": [
      "Requirement already satisfied: transformers in c:\\code\\end-to-end-medical-chatbot-generative-ai\\venv\\lib\\site-packages (4.51.2)\n",
      "Requirement already satisfied: langchain in c:\\code\\end-to-end-medical-chatbot-generative-ai\\venv\\lib\\site-packages (0.3.23)\n",
      "Requirement already satisfied: langchain-community in c:\\code\\end-to-end-medical-chatbot-generative-ai\\venv\\lib\\site-packages (0.3.21)\n",
      "Requirement already satisfied: filelock in c:\\code\\end-to-end-medical-chatbot-generative-ai\\venv\\lib\\site-packages (from transformers) (3.18.0)\n",
      "Requirement already satisfied: huggingface-hub<1.0,>=0.30.0 in c:\\code\\end-to-end-medical-chatbot-generative-ai\\venv\\lib\\site-packages (from transformers) (0.30.2)\n",
      "Requirement already satisfied: numpy>=1.17 in c:\\code\\end-to-end-medical-chatbot-generative-ai\\venv\\lib\\site-packages (from transformers) (2.2.4)\n",
      "Requirement already satisfied: packaging>=20.0 in c:\\code\\end-to-end-medical-chatbot-generative-ai\\venv\\lib\\site-packages (from transformers) (24.2)\n",
      "Requirement already satisfied: pyyaml>=5.1 in c:\\code\\end-to-end-medical-chatbot-generative-ai\\venv\\lib\\site-packages (from transformers) (6.0.2)\n",
      "Requirement already satisfied: regex!=2019.12.17 in c:\\code\\end-to-end-medical-chatbot-generative-ai\\venv\\lib\\site-packages (from transformers) (2024.11.6)\n",
      "Requirement already satisfied: requests in c:\\code\\end-to-end-medical-chatbot-generative-ai\\venv\\lib\\site-packages (from transformers) (2.32.3)\n",
      "Requirement already satisfied: tokenizers<0.22,>=0.21 in c:\\code\\end-to-end-medical-chatbot-generative-ai\\venv\\lib\\site-packages (from transformers) (0.21.1)\n",
      "Requirement already satisfied: safetensors>=0.4.3 in c:\\code\\end-to-end-medical-chatbot-generative-ai\\venv\\lib\\site-packages (from transformers) (0.5.3)\n",
      "Requirement already satisfied: tqdm>=4.27 in c:\\code\\end-to-end-medical-chatbot-generative-ai\\venv\\lib\\site-packages (from transformers) (4.67.1)\n",
      "Requirement already satisfied: langchain-core<1.0.0,>=0.3.51 in c:\\code\\end-to-end-medical-chatbot-generative-ai\\venv\\lib\\site-packages (from langchain) (0.3.51)\n",
      "Requirement already satisfied: langchain-text-splitters<1.0.0,>=0.3.8 in c:\\code\\end-to-end-medical-chatbot-generative-ai\\venv\\lib\\site-packages (from langchain) (0.3.8)\n",
      "Requirement already satisfied: langsmith<0.4,>=0.1.17 in c:\\code\\end-to-end-medical-chatbot-generative-ai\\venv\\lib\\site-packages (from langchain) (0.3.28)\n",
      "Requirement already satisfied: pydantic<3.0.0,>=2.7.4 in c:\\code\\end-to-end-medical-chatbot-generative-ai\\venv\\lib\\site-packages (from langchain) (2.11.3)\n",
      "Requirement already satisfied: SQLAlchemy<3,>=1.4 in c:\\code\\end-to-end-medical-chatbot-generative-ai\\venv\\lib\\site-packages (from langchain) (2.0.40)\n",
      "Requirement already satisfied: aiohttp<4.0.0,>=3.8.3 in c:\\code\\end-to-end-medical-chatbot-generative-ai\\venv\\lib\\site-packages (from langchain-community) (3.10.11)\n",
      "Requirement already satisfied: tenacity!=8.4.0,<10,>=8.1.0 in c:\\code\\end-to-end-medical-chatbot-generative-ai\\venv\\lib\\site-packages (from langchain-community) (9.1.2)\n",
      "Requirement already satisfied: dataclasses-json<0.7,>=0.5.7 in c:\\code\\end-to-end-medical-chatbot-generative-ai\\venv\\lib\\site-packages (from langchain-community) (0.6.7)\n",
      "Requirement already satisfied: pydantic-settings<3.0.0,>=2.4.0 in c:\\code\\end-to-end-medical-chatbot-generative-ai\\venv\\lib\\site-packages (from langchain-community) (2.8.1)\n",
      "Requirement already satisfied: httpx-sse<1.0.0,>=0.4.0 in c:\\code\\end-to-end-medical-chatbot-generative-ai\\venv\\lib\\site-packages (from langchain-community) (0.4.0)\n",
      "Requirement already satisfied: aiohappyeyeballs>=2.3.0 in c:\\code\\end-to-end-medical-chatbot-generative-ai\\venv\\lib\\site-packages (from aiohttp<4.0.0,>=3.8.3->langchain-community) (2.6.1)\n",
      "Requirement already satisfied: aiosignal>=1.1.2 in c:\\code\\end-to-end-medical-chatbot-generative-ai\\venv\\lib\\site-packages (from aiohttp<4.0.0,>=3.8.3->langchain-community) (1.3.2)\n",
      "Requirement already satisfied: attrs>=17.3.0 in c:\\code\\end-to-end-medical-chatbot-generative-ai\\venv\\lib\\site-packages (from aiohttp<4.0.0,>=3.8.3->langchain-community) (25.3.0)\n",
      "Requirement already satisfied: frozenlist>=1.1.1 in c:\\code\\end-to-end-medical-chatbot-generative-ai\\venv\\lib\\site-packages (from aiohttp<4.0.0,>=3.8.3->langchain-community) (1.5.0)\n",
      "Requirement already satisfied: multidict<7.0,>=4.5 in c:\\code\\end-to-end-medical-chatbot-generative-ai\\venv\\lib\\site-packages (from aiohttp<4.0.0,>=3.8.3->langchain-community) (6.4.0)\n",
      "Requirement already satisfied: yarl<2.0,>=1.12.0 in c:\\code\\end-to-end-medical-chatbot-generative-ai\\venv\\lib\\site-packages (from aiohttp<4.0.0,>=3.8.3->langchain-community) (1.19.0)\n",
      "Requirement already satisfied: marshmallow<4.0.0,>=3.18.0 in c:\\code\\end-to-end-medical-chatbot-generative-ai\\venv\\lib\\site-packages (from dataclasses-json<0.7,>=0.5.7->langchain-community) (3.26.1)\n",
      "Requirement already satisfied: typing-inspect<1,>=0.4.0 in c:\\code\\end-to-end-medical-chatbot-generative-ai\\venv\\lib\\site-packages (from dataclasses-json<0.7,>=0.5.7->langchain-community) (0.9.0)\n",
      "Requirement already satisfied: fsspec>=2023.5.0 in c:\\code\\end-to-end-medical-chatbot-generative-ai\\venv\\lib\\site-packages (from huggingface-hub<1.0,>=0.30.0->transformers) (2025.3.2)\n",
      "Requirement already satisfied: typing-extensions>=3.7.4.3 in c:\\code\\end-to-end-medical-chatbot-generative-ai\\venv\\lib\\site-packages (from huggingface-hub<1.0,>=0.30.0->transformers) (4.13.1)\n",
      "Requirement already satisfied: jsonpatch<2.0,>=1.33 in c:\\code\\end-to-end-medical-chatbot-generative-ai\\venv\\lib\\site-packages (from langchain-core<1.0.0,>=0.3.51->langchain) (1.33)\n",
      "Requirement already satisfied: httpx<1,>=0.23.0 in c:\\code\\end-to-end-medical-chatbot-generative-ai\\venv\\lib\\site-packages (from langsmith<0.4,>=0.1.17->langchain) (0.28.1)\n",
      "Requirement already satisfied: orjson<4.0.0,>=3.9.14 in c:\\code\\end-to-end-medical-chatbot-generative-ai\\venv\\lib\\site-packages (from langsmith<0.4,>=0.1.17->langchain) (3.10.16)\n",
      "Requirement already satisfied: requests-toolbelt<2.0.0,>=1.0.0 in c:\\code\\end-to-end-medical-chatbot-generative-ai\\venv\\lib\\site-packages (from langsmith<0.4,>=0.1.17->langchain) (1.0.0)\n",
      "Requirement already satisfied: zstandard<0.24.0,>=0.23.0 in c:\\code\\end-to-end-medical-chatbot-generative-ai\\venv\\lib\\site-packages (from langsmith<0.4,>=0.1.17->langchain) (0.23.0)\n",
      "Requirement already satisfied: annotated-types>=0.6.0 in c:\\code\\end-to-end-medical-chatbot-generative-ai\\venv\\lib\\site-packages (from pydantic<3.0.0,>=2.7.4->langchain) (0.7.0)\n",
      "Requirement already satisfied: pydantic-core==2.33.1 in c:\\code\\end-to-end-medical-chatbot-generative-ai\\venv\\lib\\site-packages (from pydantic<3.0.0,>=2.7.4->langchain) (2.33.1)\n",
      "Requirement already satisfied: typing-inspection>=0.4.0 in c:\\code\\end-to-end-medical-chatbot-generative-ai\\venv\\lib\\site-packages (from pydantic<3.0.0,>=2.7.4->langchain) (0.4.0)\n",
      "Requirement already satisfied: python-dotenv>=0.21.0 in c:\\code\\end-to-end-medical-chatbot-generative-ai\\venv\\lib\\site-packages (from pydantic-settings<3.0.0,>=2.4.0->langchain-community) (1.1.0)\n",
      "Requirement already satisfied: charset-normalizer<4,>=2 in c:\\code\\end-to-end-medical-chatbot-generative-ai\\venv\\lib\\site-packages (from requests->transformers) (3.4.1)\n",
      "Requirement already satisfied: idna<4,>=2.5 in c:\\code\\end-to-end-medical-chatbot-generative-ai\\venv\\lib\\site-packages (from requests->transformers) (3.10)\n",
      "Requirement already satisfied: urllib3<3,>=1.21.1 in c:\\code\\end-to-end-medical-chatbot-generative-ai\\venv\\lib\\site-packages (from requests->transformers) (2.3.0)\n",
      "Requirement already satisfied: certifi>=2017.4.17 in c:\\code\\end-to-end-medical-chatbot-generative-ai\\venv\\lib\\site-packages (from requests->transformers) (2025.1.31)\n",
      "Requirement already satisfied: greenlet>=1 in c:\\code\\end-to-end-medical-chatbot-generative-ai\\venv\\lib\\site-packages (from SQLAlchemy<3,>=1.4->langchain) (3.1.1)\n",
      "Requirement already satisfied: colorama in c:\\code\\end-to-end-medical-chatbot-generative-ai\\venv\\lib\\site-packages (from tqdm>=4.27->transformers) (0.4.6)\n",
      "Requirement already satisfied: anyio in c:\\code\\end-to-end-medical-chatbot-generative-ai\\venv\\lib\\site-packages (from httpx<1,>=0.23.0->langsmith<0.4,>=0.1.17->langchain) (4.9.0)\n",
      "Requirement already satisfied: httpcore==1.* in c:\\code\\end-to-end-medical-chatbot-generative-ai\\venv\\lib\\site-packages (from httpx<1,>=0.23.0->langsmith<0.4,>=0.1.17->langchain) (1.0.7)\n",
      "Requirement already satisfied: h11<0.15,>=0.13 in c:\\code\\end-to-end-medical-chatbot-generative-ai\\venv\\lib\\site-packages (from httpcore==1.*->httpx<1,>=0.23.0->langsmith<0.4,>=0.1.17->langchain) (0.14.0)\n",
      "Requirement already satisfied: jsonpointer>=1.9 in c:\\code\\end-to-end-medical-chatbot-generative-ai\\venv\\lib\\site-packages (from jsonpatch<2.0,>=1.33->langchain-core<1.0.0,>=0.3.51->langchain) (3.0.0)\n",
      "Requirement already satisfied: mypy-extensions>=0.3.0 in c:\\code\\end-to-end-medical-chatbot-generative-ai\\venv\\lib\\site-packages (from typing-inspect<1,>=0.4.0->dataclasses-json<0.7,>=0.5.7->langchain-community) (1.0.0)\n",
      "Requirement already satisfied: propcache>=0.2.1 in c:\\code\\end-to-end-medical-chatbot-generative-ai\\venv\\lib\\site-packages (from yarl<2.0,>=1.12.0->aiohttp<4.0.0,>=3.8.3->langchain-community) (0.3.1)\n",
      "Requirement already satisfied: sniffio>=1.1 in c:\\code\\end-to-end-medical-chatbot-generative-ai\\venv\\lib\\site-packages (from anyio->httpx<1,>=0.23.0->langsmith<0.4,>=0.1.17->langchain) (1.3.1)\n",
      "Note: you may need to restart the kernel to use updated packages.\n"
     ]
    },
    {
     "name": "stderr",
     "output_type": "stream",
     "text": [
      "\n",
      "[notice] A new release of pip is available: 24.3.1 -> 25.0.1\n",
      "[notice] To update, run: python.exe -m pip install --upgrade pip\n"
     ]
    }
   ],
   "source": [
    "pip install transformers langchain langchain-community\n"
   ]
  },
  {
   "cell_type": "code",
   "execution_count": 3,
   "id": "41a31d5a",
   "metadata": {},
   "outputs": [],
   "source": [
    "#from langchain_community.llms import Ollama\n",
    "\n",
    "#llm = Ollama(model=\"gemma:2b\")\n"
   ]
  },
  {
   "cell_type": "code",
   "execution_count": 4,
   "id": "dd467289",
   "metadata": {},
   "outputs": [],
   "source": [
    "#from langchain_core.prompts import PromptTemplate\n",
    "#from langchain.chains.combine_documents import create_stuff_documents_chain\n",
    "#from langchain.chains import create_retrieval_chain\n",
    "\n",
    "# Create your prompt\n",
    "#prompt = PromptTemplate(\n",
    "    #input_variables=[\"context\", \"input\"],\n",
    "    #template=(\n",
    "        #\"You are an assistant for medical question-answering tasks.\\n\"\n",
    "        #\"Use the following context to answer the question concisely. \"\n",
    "        #\"If you don't know the answer, say so.\\n\\n\"\n",
    "        #\"Context:\\n{context}\\n\\nQuestion:\\n{input}\"\n",
    "    #)\n",
    "#)\n",
    "\n",
    "# Stuff documents into prompt\n",
    "#question_answer_chain = create_stuff_documents_chain(llm, prompt)\n",
    "\n",
    "# Create the retrieval-based QA chain\n",
    "#rag_chain = create_retrieval_chain(retriever, question_answer_chain)\n",
    "\n",
    "# Ask the bot a question\n",
    "#response = rag_chain.invoke({\"input\": \"What is hypertension?\"})\n",
    "#print(response[\"answer\"])\n"
   ]
  },
  {
   "cell_type": "code",
   "execution_count": 30,
   "id": "af838d67",
   "metadata": {},
   "outputs": [
    {
     "name": "stdout",
     "output_type": "stream",
     "text": [
      "Hypertension, also known as high blood pressure, is a medical condition characterized by persistently high arterial blood pressure. In this condition, the force of blood pushing against the walls of the arteries is consistently too high, which can lead to damage to the blood vessels, heart, and kidneys over time.\n",
      "\n",
      "Hypertension is often referred to as a \"silent killer\" because it usually does not cause noticeable symptoms until it has reached a severe stage or has caused complications such as heart disease, stroke, or kidney disease. However, some people may experience symptoms such as:\n",
      "\n",
      "* Palpitations (rapid, forceful, throbbing, or fluttering heartbeat)\n",
      "* Headaches\n",
      "* Dizziness or lightheadedness\n",
      "* Nosebleeds\n",
      "* Fatigue\n",
      "\n",
      "If left uncontrolled, hypertension can lead to serious complications, including:\n",
      "\n",
      "* Heart failure: High blood pressure can weaken the heart, making it less efficient at pumping blood, leading to heart failure.\n",
      "* Stroke: High blood pressure can cause blood vessels in the brain to rupture or become blocked, leading to a stroke.\n",
      "* Kidney disease: High blood pressure can damage the kidneys, leading to kidney disease or even kidney failure.\n",
      "\n",
      "The good news is that hypertension can be controlled and managed through lifestyle changes and, if necessary, medication. Lifestyle changes that can help control hypertension include:\n",
      "\n",
      "* Reducing sodium intake\n",
      "* Reducing fat intake\n",
      "* Exercising regularly\n",
      "* Managing stress\n",
      "* Quitting smoking\n",
      "* Losing weight, if necessary\n",
      "\n",
      "Medications such as alpha blockers, calcium channel blockers, and diuretics can also be used to help lower blood pressure and reduce the risk of complications. It's essential to work with a healthcare provider to develop a plan to manage hypertension and reduce the risk of related complications.\n"
     ]
    }
   ],
   "source": [
    "from langchain_core.prompts import PromptTemplate\n",
    "from langchain_groq import ChatGroq\n",
    "from langchain.chains.combine_documents import create_stuff_documents_chain\n",
    "from langchain.chains import create_retrieval_chain\n",
    "\n",
    "# Load your retriever (this could be FAISS, ChromaDB etc.)\n",
    "# retriever = ...\n",
    "\n",
    "# Define the LLM\n",
    "llm = ChatGroq(temperature=0.7, model_name=\"llama3-70b-8192\")\n",
    "\n",
    "# Define Prompt\n",
    "prompt = PromptTemplate(\n",
    "    input_variables=[\"context\", \"input\"],\n",
    "    template=(\n",
    "        \"You are a knowledgeable and helpful medical assistant. \"\n",
    "        \"Use the context below to provide a clear and informative answer to the question. \"\n",
    "        \"If relevant, explain causes, symptoms, treatments, or examples. Do not skip any important detail.\\n\\n\"\n",
    "        \"Context:\\n{context}\\n\\n\"\n",
    "        \"Question:\\n{input}\\n\\n\"\n",
    "        \"Answer:\"\n",
    "    ),\n",
    ")\n",
    "\n",
    "\n",
    "# Create RAG Chain\n",
    "qa_chain = create_stuff_documents_chain(llm, prompt)\n",
    "rag_chain = create_retrieval_chain(retriever, qa_chain)\n",
    "\n",
    "# Use the chain\n",
    "response = rag_chain.invoke({\"input\": \"What is hypertension?\"})\n",
    "print(response[\"answer\"])\n"
   ]
  },
  {
   "cell_type": "code",
   "execution_count": null,
   "id": "bdc5bfd3",
   "metadata": {},
   "outputs": [],
   "source": [
    "#question_answer_chain = create_stuff_documents_chain(llm, prompt)\n",
    "#rag_chain = create_retrieval_chain(retriever, question_answer_chain)\n"
   ]
  },
  {
   "cell_type": "code",
   "execution_count": 31,
   "id": "a156f566",
   "metadata": {},
   "outputs": [
    {
     "name": "stdout",
     "output_type": "stream",
     "text": [
      "Acromegaly and gigantism are related disorders caused by the abnormal release of growth hormone from the pituitary gland in the brain.\n",
      "\n",
      "**Acromegaly:**\n",
      "Acromegaly is a rare disorder that occurs when the pituitary gland releases excess growth hormone after normal bone growth has stopped, typically in middle-aged adults. This excess hormone causes increased growth in bone and soft tissue, leading to a range of symptoms and disturbances throughout the body. The symptoms of acromegaly develop gradually, which often leads to delayed diagnosis. The disorder affects approximately 50 out of every one million people, and both men and women are equally affected.\n",
      "\n",
      "**Gigantism:**\n",
      "Gigantism, on the other hand, occurs when the abnormal release of growth hormone occurs before normal bone growth has stopped, typically during childhood or adolescence. This results in abnormal growth and height, often leading to unusual tallness.\n",
      "\n",
      "**Common symptoms of acromegaly and gigantism:**\n",
      "\n",
      "* Increased growth in bone and soft tissue\n",
      "* Abnormal growth and height (in gigantism)\n",
      "* Joint pain and limited mobility\n",
      "* Sleep apnea\n",
      "* Excessive sweating\n",
      "* Headaches\n",
      "* Vision problems\n",
      "* Enlarged hands and feet\n",
      "* Coarse facial features\n",
      "* Deepened voice\n",
      "* Excess hair growth\n",
      "\n",
      "**Causes:**\n",
      "The primary cause of acromegaly and gigantism is a benign tumor on the pituitary gland, which leads to the overproduction of growth hormone. In some cases, the tumor can be caused by genetic mutations or other underlying medical conditions.\n",
      "\n",
      "**Treatment:**\n",
      "Treatment for acromegaly and gigantism typically involves a combination of medications, surgery, and radiation therapy to reduce the production of growth hormone and relieve symptoms. Medications may include somatostatin analogs, dopamine agonists, and growth hormone receptor antagonists. Surgery may be necessary to remove the pituitary tumor, and radiation therapy may be used to shrink the tumor or reduce hormone production.\n",
      "\n",
      "In summary, acromegaly and gigantism are disorders caused by excess growth hormone production, leading to abnormal growth and a range of symptoms. While they share some similarities, the key difference lies in the timing of the abnormal hormone release, with acromegaly occurring in adults and gigantism occurring in children and adolescents.\n"
     ]
    }
   ],
   "source": [
    "response = rag_chain.invoke({\"input\": \"what is Acromegaly and gigantism?\"})\n",
    "print(response[\"answer\"])\n"
   ]
  },
  {
   "cell_type": "code",
   "execution_count": 23,
   "id": "c120d87b",
   "metadata": {},
   "outputs": [
    {
     "name": "stdout",
     "output_type": "stream",
     "text": [
      "Based on the context, \"ac\" likely refers to Acupuncture.\n"
     ]
    }
   ],
   "source": [
    "response = rag_chain.invoke({\"input\": \"What is ac?\"})\n",
    "print(response[\"answer\"])"
   ]
  }
 ],
 "metadata": {
  "kernelspec": {
   "display_name": "venv",
   "language": "python",
   "name": "python3"
  },
  "language_info": {
   "codemirror_mode": {
    "name": "ipython",
    "version": 3
   },
   "file_extension": ".py",
   "mimetype": "text/x-python",
   "name": "python",
   "nbconvert_exporter": "python",
   "pygments_lexer": "ipython3",
   "version": "3.13.2"
  }
 },
 "nbformat": 4,
 "nbformat_minor": 5
}
